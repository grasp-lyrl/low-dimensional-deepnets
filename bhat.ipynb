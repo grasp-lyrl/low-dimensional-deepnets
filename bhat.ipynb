{
 "cells": [
  {
   "cell_type": "code",
   "execution_count": 1,
   "id": "a3d4f0e1",
   "metadata": {},
   "outputs": [],
   "source": [
    "import numpy as np\n",
    "import scipy as sp\n",
    "import torch as th\n",
    "\n",
    "import os, pdb, sys, json, glob, tqdm\n",
    "import pandas as pd\n",
    "from sklearn.manifold import MDS as skmds\n",
    "\n",
    "import matplotlib.pyplot as plt\n",
    "import seaborn as sns\n",
    "sns.set_style('darkgrid')\n",
    "\n",
    "sns.set_context('notebook')\n",
    "\n",
    "%matplotlib notebook\n",
    "plt.rcParams['figure.figsize'] = [5,5]\n",
    "plt.rcParams['figure.dpi'] = 200\n",
    "# %config InlineBackend.figure_format ='retina'\n",
    "\n",
    "dev = 'cpu'\n",
    "\n",
    "from utils import *"
   ]
  },
  {
   "cell_type": "code",
   "execution_count": 6,
   "id": "cdafd597",
   "metadata": {},
   "outputs": [],
   "source": [
    "def embed_bhat(dd, fn='', ss=1, ne=3, load_w=False):\n",
    "    dc = dd[['seed', 'widen', 'numc', 't', 'err', 'verr', 'favg', 'vfavg']]\n",
    "    th.save(dc, 'didx_%s.p'%fn)\n",
    "    x = np.array([dd.iloc[i]['yh'][::ss].float().numpy() for i in range(len(dd))])\n",
    "    n = x.shape[0]\n",
    "\n",
    "    if not os.path.isfile('w_%s.p'%fn):\n",
    "        a = np.sqrt(np.exp(x))\n",
    "        a = np.moveaxis(a, 0, 1)\n",
    "        w = np.zeros((n,n))\n",
    "        nc = 50 if n < 4000 else 100\n",
    "        print('chunks: ', nc)\n",
    "        for aa in tqdm.tqdm(np.split(a, nc)):\n",
    "            w += np.log(np.einsum('kil,kjl->kij', aa, aa, optimize=True)).sum(0)\n",
    "        w = -w\n",
    "\n",
    "        del a\n",
    "        l = np.eye(w.shape[0]) - 1.0/w.shape[0]\n",
    "        w = l @ w @ l\n",
    "        print('Saving w')\n",
    "        th.save(w, 'w_%s.p'%fn)\n",
    "    else:\n",
    "        print('Found: w_%s.p'%fn)\n",
    "\n",
    "    w = th.load('w_%s.p'%fn)\n",
    "    print('Projecting')\n",
    "    e1,v1 = sp.linalg.eigh(w, driver='evx', check_finite=False,\n",
    "                        subset_by_index=[n-(ne+1),n-1])\n",
    "    e2,v2 = sp.linalg.eigh(w, driver='evx', check_finite=False,\n",
    "                        subset_by_index=[0,(ne+1)])\n",
    "    e = np.concatenate((e1,e2))\n",
    "    v = np.concatenate((v1,v2), axis=1)\n",
    "\n",
    "    ii = np.argsort(np.abs(e))[::-1]\n",
    "    e,v = e[ii], v[:,ii]\n",
    "    xp = v*np.sqrt(np.abs(e))\n",
    "    r = dict(xp=xp,w=w,e=e,v=v)\n",
    "    th.save(r, 'r_%s.p'%fn)\n",
    "    return\n",
    "\n",
    "def embed_skl(dd, fn='', ss=1, ne=3, load_w=False):\n",
    "    fn += '_skl'\n",
    "    dc = dd[['seed', 'widen', 'numc', 't', 'err', 'verr', 'favg', 'vfavg']]\n",
    "    th.save(dc, 'didx_%s.p'%fn)\n",
    "    x = np.array([dd.iloc[i]['yh'][::ss].float().numpy() for i in range(len(dd))])\n",
    "    n = x.shape[0]\n",
    "\n",
    "    if not os.path.isfile('w_%s.p'%fn):\n",
    "        a = np.exp(x)\n",
    "        loga = x\n",
    "        a = np.moveaxis(a, 0, 1)\n",
    "        loga = np.moveaxis(loga, 0, 1)\n",
    "        \n",
    "        da = a[:,:,None,:] - a[:,None,:,:]\n",
    "        loga = loga[:,:,None,:] - loga[:,None,:,:]\n",
    "        w = np.zeros((n,n))\n",
    "        nc = 50 if n < 4000 else 100\n",
    "        print('chunks: ', nc)\n",
    "        for daa,dlogaa in tqdm.tqdm(zip(np.split(da, nc), np.split(dloga, nc))):\n",
    "            w += np.einsum('lijk->ij', daa*dlogaa)\n",
    "\n",
    "        del a\n",
    "        l = np.eye(w.shape[0]) - 1.0/w.shape[0]\n",
    "        w = l @ w @ l\n",
    "        print('Saving w')\n",
    "        th.save(w, 'w_%s.p'%fn)\n",
    "    else:\n",
    "        print('Found: w_%s.p'%fn)\n",
    "\n",
    "    w = th.load('w_%s.p'%fn)\n",
    "    print('Projecting')\n",
    "    e1,v1 = sp.linalg.eigh(w, driver='evx', check_finite=False,\n",
    "                        subset_by_index=[n-(ne+1),n-1])\n",
    "    e2,v2 = sp.linalg.eigh(w, driver='evx', check_finite=False,\n",
    "                        subset_by_index=[0,(ne+1)])\n",
    "    e = np.concatenate((e1,e2))\n",
    "    v = np.concatenate((v1,v2), axis=1)\n",
    "\n",
    "    ii = np.argsort(np.abs(e))[::-1]\n",
    "    e,v = e[ii], v[:,ii]\n",
    "    xp = v*np.sqrt(np.abs(e))\n",
    "    r = dict(xp=xp,w=w,e=e,v=v)\n",
    "    th.save(r, 'r_%s.p'%fn)\n",
    "    return"
   ]
  },
  {
   "cell_type": "code",
   "execution_count": 7,
   "id": "c25a1ddf",
   "metadata": {},
   "outputs": [
    {
     "name": "stdout",
     "output_type": "stream",
     "text": [
      "Found: w_wnc_44_skl.p\n",
      "Projecting\n"
     ]
    }
   ],
   "source": [
    "# r = embed_bhat(d, fn='wnc_28_44_48', ss=10)\n",
    "# d = th.load('d_2_2.p')\n",
    "r = embed_skl(d, fn='wnc_44', ss=10)"
   ]
  },
  {
   "cell_type": "code",
   "execution_count": 90,
   "id": "9cf01ac4",
   "metadata": {},
   "outputs": [],
   "source": [
    "a = np.random.randn(100,8,10)**2\n",
    "loga = np.log(a)"
   ]
  },
  {
   "cell_type": "code",
   "execution_count": 66,
   "id": "bff2b699",
   "metadata": {},
   "outputs": [],
   "source": [
    "a = np.arange(5,9+5).reshape((3,3))\n",
    "loga = np.log(a)"
   ]
  },
  {
   "cell_type": "code",
   "execution_count": 94,
   "id": "361609f6",
   "metadata": {},
   "outputs": [],
   "source": [
    "da = a[:,:,None,:]-a[:,None,:,:]\n",
    "dloga = loga[:,:,None,:]-loga[:,None,:,:]"
   ]
  },
  {
   "cell_type": "code",
   "execution_count": 82,
   "id": "e99c7f39",
   "metadata": {},
   "outputs": [
    {
     "name": "stdout",
     "output_type": "stream",
     "text": [
      "einsum\n",
      " [[  0  27 108]\n",
      " [ 27   0  27]\n",
      " [108  27   0]]\n",
      "cdist\n",
      " [[  0.  27. 108.]\n",
      " [ 27.   0.  27.]\n",
      " [108.  27.   0.]]\n"
     ]
    }
   ],
   "source": [
    "from scipy.spatial.distance import cdist\n",
    "print('einsum\\n', np.einsum('ijk->ij', da**2))\n",
    "print('cdist\\n', cdist(a,a,'sqeuclidean'))"
   ]
  },
  {
   "cell_type": "code",
   "execution_count": 95,
   "id": "67c27c92",
   "metadata": {},
   "outputs": [
    {
     "name": "stdout",
     "output_type": "stream",
     "text": [
      "einsum\n",
      " [[   0.         3587.02592105 3978.31833713 3879.01073538 3697.90901108\n",
      "  4038.56747022 3928.95397121 3983.73882022]\n",
      " [3587.02592105    0.         4075.74406537 4390.97779987 3890.27212038\n",
      "  4697.32611235 4322.26641331 4168.79262413]\n",
      " [3978.31833713 4075.74406537    0.         3823.19059786 3952.23474922\n",
      "  4302.71221748 3807.72074051 4071.9233486 ]\n",
      " [3879.01073538 4390.97779987 3823.19059786    0.         4460.13317407\n",
      "  4322.45120402 3896.79093572 4174.8749563 ]\n",
      " [3697.90901108 3890.27212038 3952.23474922 4460.13317407    0.\n",
      "  4198.38016764 3963.17386218 3880.06412094]\n",
      " [4038.56747022 4697.32611235 4302.71221748 4322.45120402 4198.38016764\n",
      "     0.         4304.21161252 3965.88824807]\n",
      " [3928.95397121 4322.26641331 3807.72074051 3896.79093572 3963.17386218\n",
      "  4304.21161252    0.         4258.00085438]\n",
      " [3983.73882022 4168.79262413 4071.9233486  4174.8749563  3880.06412094\n",
      "  3965.88824807 4258.00085438    0.        ]]\n"
     ]
    }
   ],
   "source": [
    "print('einsum\\n', np.einsum('lijk->ij', da*dloga))"
   ]
  },
  {
   "cell_type": "code",
   "execution_count": 99,
   "id": "2a6f61dd",
   "metadata": {},
   "outputs": [],
   "source": [
    "a = np.array([1,2,3])\n",
    "b = np.array([1,2,3])"
   ]
  }
 ],
 "metadata": {
  "kernelspec": {
   "display_name": "Python 3 (ipykernel)",
   "language": "python",
   "name": "python3"
  },
  "language_info": {
   "codemirror_mode": {
    "name": "ipython",
    "version": 3
   },
   "file_extension": ".py",
   "mimetype": "text/x-python",
   "name": "python",
   "nbconvert_exporter": "python",
   "pygments_lexer": "ipython3",
   "version": "3.9.5"
  }
 },
 "nbformat": 4,
 "nbformat_minor": 5
}
