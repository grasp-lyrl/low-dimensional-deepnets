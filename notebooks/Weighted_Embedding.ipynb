{
 "cells": [
  {
   "cell_type": "code",
   "execution_count": 1,
   "id": "02e41063",
   "metadata": {},
   "outputs": [],
   "source": [
    "%matplotlib inline\n",
    "import numpy as np\n",
    "import matplotlib.pyplot as plt\n",
    "from mpl_toolkits.mplot3d import proj3d\n",
    "from scipy import *\n",
    "from numpy import linalg as LA\n"
   ]
  },
  {
   "cell_type": "code",
   "execution_count": 91,
   "id": "c48b479c",
   "metadata": {},
   "outputs": [],
   "source": [
    "def weighted_MDS_v1(distance,w):\n",
    "    '''\n",
    "    distance is array of size n by n\n",
    "    weight is a vector of size (n,)  ( have to be integer)\n",
    "    '''\n",
    "\n",
    "    P_ = np.eye(len(w)) -np.ones((len(w),len(w)))*(w/np.sum(w))\n",
    "    Weighted_Dc = -P_@ distance@P_.T/2\n",
    "    '''\n",
    "    mutiply each column by the weights\n",
    "    '''\n",
    "    d_ = np.zeros_like(Weighted_Dc)\n",
    "    for i in range(len(w)):\n",
    "        d_[:,i] = w[i]*Weighted_Dc[:,i]\n",
    "    \n",
    "    e_,v_ = LA.eig(d_)\n",
    "\n",
    "    ii = np.argsort(np.abs(e_))[::-1]\n",
    "    e_, v_= e_[ii],v_[:, ii]\n",
    "\n",
    "    '''\n",
    "    rescale by eigenvector by weights\n",
    "    \n",
    "    '''\n",
    "    scaling_factor = np.zeros(e_.shape)\n",
    "    for i in range(len(e_)):\n",
    "        scaling_factor[i] = np.sqrt(np.sum(w*v_[:,i]**2))\n",
    "    coords_ = np.sqrt(np.abs(e_))*v_/scaling_factor\n",
    "    \n",
    "    return coords_, e_,v_, Weighted_Dc"
   ]
  },
  {
   "cell_type": "code",
   "execution_count": 148,
   "id": "3dd21166",
   "metadata": {},
   "outputs": [],
   "source": [
    "def MDS(distance):\n",
    "    N = len(distance)\n",
    "    P_ = np.eye(N) -np.ones([N, N])/N\n",
    "    d = -P_@ distance@P_.T/2\n",
    "    e_,v_ = LA.eigh(d)\n",
    "\n",
    "    ii = np.argsort(np.abs(e_))[::-1]\n",
    "    e_, v_= e_[ii],v_[:, ii]\n",
    "\n",
    "    coords_ = np.sqrt(np.abs(e_))*v_\n",
    "    \n",
    "    return coords_, e_,v_, d"
   ]
  },
  {
   "cell_type": "code",
   "execution_count": 157,
   "id": "e63617b8",
   "metadata": {},
   "outputs": [],
   "source": [
    "import scipy.sparse.linalg as sp\n",
    "def weighted_MDS(w, weight):\n",
    "\n",
    "    dmean = (w*weight).sum(1, keepdims=True)\n",
    "    w = w-dmean\n",
    "    w = w-(w*weight[:, None]).sum(0)\n",
    "    w0 = -0.5*w\n",
    "\n",
    "\n",
    "    w = w0 * weight[None, :] \n",
    "    ne = 7\n",
    "    e, v = LA.eig(w)\n",
    "#     ne = 7\n",
    "#     e, v = sp.eigsh(w, ne, which='LM', return_eigenvectors=True)\n",
    "    ii = np.argsort(np.abs(e))[::-1]\n",
    "    e, v = e[ii], v[:, ii]\n",
    "\n",
    "    scaling_factor = np.linalg.norm(v*np.sqrt(weight[:, None]), axis=0, keepdims=True)\n",
    "    print(scaling_factor)\n",
    "    xp = v*np.sqrt(np.abs(e)) / scaling_factor\n",
    "    return xp, e, v, w0"
   ]
  },
  {
   "cell_type": "code",
   "execution_count": 158,
   "id": "662ac74a",
   "metadata": {},
   "outputs": [],
   "source": [
    "x = np.random.randn(80, 10)\n",
    "d = np.sqrt(((x[None, :] - x[None, :].transpose(1, 0, 2))**2).sum(-1))"
   ]
  },
  {
   "cell_type": "code",
   "execution_count": 159,
   "id": "5cf991da",
   "metadata": {},
   "outputs": [],
   "source": [
    "# idxs = np.random.randint(0, len(x), 5)\n",
    "# idxs = np.arange(len(x)-1)\n",
    "# xr = np.vstack([x, x[idxs, :]])\n",
    "xr = x[:-1, :]\n",
    "dr = np.sqrt(((xr[None, :] - xr[None, :].transpose(1, 0, 2))**2).sum(-1))"
   ]
  },
  {
   "cell_type": "code",
   "execution_count": 160,
   "id": "021dec56",
   "metadata": {},
   "outputs": [],
   "source": [
    "w = np.ones(len(x))\n",
    "w[-1] = 0\n",
    "w /= w.sum()"
   ]
  },
  {
   "cell_type": "code",
   "execution_count": 161,
   "id": "99512749",
   "metadata": {},
   "outputs": [
    {
     "name": "stdout",
     "output_type": "stream",
     "text": [
      "[[0.11247567 0.11185759 0.1111606  0.11230925 0.11216467 0.11118867\n",
      "  0.11183108 0.11102741 0.11242268 0.11241091 0.11247752 0.11249295\n",
      "  0.11215761 0.11247147 0.11250756 0.11246535 0.11250863 0.11249408\n",
      "  0.11246461 0.11245331 0.11249916 0.11245302 0.11228772 0.11246493\n",
      "  0.11250271 0.11246756 0.11250667 0.11242527 0.11246593 0.11249881\n",
      "  0.11250825 0.11246666 0.11249355 0.11238809 0.11214186 0.11250648\n",
      "  0.11248466 0.11250809 0.11239411 0.11187507 0.11250352 0.11249799\n",
      "  0.11231747 0.11249449 0.11249493 0.11249909 0.11249443 0.11245789\n",
      "  0.11250573 0.11247241 0.11241637 0.11248491 0.11245022 0.11247357\n",
      "  0.11244624 0.11250692 0.11249793 0.11249762 0.11248694 0.11227143\n",
      "  0.11250864 0.11245196 0.11249908 0.11248748 0.11248327 0.112499\n",
      "  0.11247181 0.11237936 0.11247919 0.11250821 0.11248274 0.11241608\n",
      "  0.11250232 0.11250849 0.11250879 0.11250358 0.11247794 0.11248195\n",
      "  0.03297464 0.        ]]\n"
     ]
    },
    {
     "name": "stderr",
     "output_type": "stream",
     "text": [
      "/tmp/ipykernel_22610/3295610977.py:20: RuntimeWarning: invalid value encountered in true_divide\n",
      "  xp = v*np.sqrt(np.abs(e)) / scaling_factor\n"
     ]
    }
   ],
   "source": [
    "coords_, e_,v_, Weighted_Dc = weighted_MDS(d,w)"
   ]
  },
  {
   "cell_type": "code",
   "execution_count": 162,
   "id": "5940171a",
   "metadata": {},
   "outputs": [],
   "source": [
    "coords, e,v, d_ = MDS(dr)"
   ]
  },
  {
   "cell_type": "code",
   "execution_count": 163,
   "id": "9163d534",
   "metadata": {
    "scrolled": false
   },
   "outputs": [
    {
     "name": "stdout",
     "output_type": "stream",
     "text": [
      "repeated:  [ 0.07422371  0.33105954 -0.77810582 -0.18569446  0.34369947 -0.36528827\n",
      " -0.13879128 -0.15623226 -0.13772374 -0.01823352 -0.08268612 -0.31603198\n",
      " -0.31980196  0.56247666  0.61982491  0.53592301  0.05568076 -0.20640226\n",
      "  0.08131486 -0.58491053 -0.22283603 -0.09670943 -0.26774709  0.44299973\n",
      "  0.2807453  -1.11717902  0.21527946  0.19027451  0.04742289  0.00858747\n",
      " -0.22396872 -0.27872578 -0.09579266  0.29305071 -0.62413262  0.2579048\n",
      "  0.45701056  0.55094545 -0.17510612 -0.26551235 -0.30932416  0.08545501\n",
      "  0.52172721 -0.5978463  -0.23387912 -0.34976009  1.14421254 -0.42408928\n",
      "  0.29998216  0.72533591  0.64628964  0.15459572  0.30484675  0.45024071\n",
      "  0.50144241  0.07059569  0.50971187 -0.27983766 -0.07390386  0.30691527\n",
      " -0.42342427  0.38925818 -0.79709419  0.19318251  0.63946028  0.37876831\n",
      " -0.27849311 -0.39054094 -0.68199323 -0.13097077  0.0133216   0.89723672\n",
      " -0.16401478 -0.12660494 -0.67069288  0.22316361 -0.87427949 -0.28771131\n",
      " -0.05209352]\n",
      "weighted:  [ 0.07422371  0.33105954 -0.77810582 -0.18569446  0.34369947 -0.36528827\n",
      " -0.13879128 -0.15623226 -0.13772374 -0.01823352 -0.08268612 -0.31603198\n",
      " -0.31980196  0.56247666  0.61982491  0.53592301  0.05568076 -0.20640226\n",
      "  0.08131486 -0.58491053 -0.22283603 -0.09670943 -0.26774709  0.44299973\n",
      "  0.2807453  -1.11717902  0.21527946  0.19027451  0.04742289  0.00858747\n",
      " -0.22396872 -0.27872578 -0.09579266  0.29305071 -0.62413262  0.2579048\n",
      "  0.45701056  0.55094545 -0.17510612 -0.26551235 -0.30932416  0.08545501\n",
      "  0.52172721 -0.5978463  -0.23387912 -0.34976009  1.14421254 -0.42408928\n",
      "  0.29998216  0.72533591  0.64628964  0.15459572  0.30484675  0.45024071\n",
      "  0.50144241  0.07059569  0.50971187 -0.27983766 -0.07390386  0.30691527\n",
      " -0.42342427  0.38925818 -0.79709419  0.19318251  0.63946028  0.37876831\n",
      " -0.27849311 -0.39054094 -0.68199323 -0.13097077  0.0133216   0.89723672\n",
      " -0.16401478 -0.12660494 -0.67069288  0.22316361 -0.87427949 -0.28771131\n",
      " -0.05209352  0.09274839]\n"
     ]
    }
   ],
   "source": [
    "print('repeated: ', coords[:, 0])\n",
    "print('weighted: ', coords_[:, 0])"
   ]
  },
  {
   "cell_type": "code",
   "execution_count": 164,
   "id": "ebee62e2",
   "metadata": {},
   "outputs": [
    {
     "data": {
      "text/plain": [
       "array([0.09274839])"
      ]
     },
     "execution_count": 164,
     "metadata": {},
     "output_type": "execute_result"
    }
   ],
   "source": [
    "Weighted_Dc[-1:, :-1]@v[:, 0]/np.sqrt(e[0])"
   ]
  },
  {
   "cell_type": "code",
   "execution_count": 49,
   "id": "04871c78",
   "metadata": {},
   "outputs": [
    {
     "data": {
      "text/plain": [
       "array([[ 0.19373797, -0.11808463]])"
      ]
     },
     "execution_count": 49,
     "metadata": {},
     "output_type": "execute_result"
    }
   ],
   "source": [
    "coords_[-1:, :2]"
   ]
  },
  {
   "cell_type": "code",
   "execution_count": 28,
   "id": "6fc61504",
   "metadata": {},
   "outputs": [],
   "source": [
    "coords, e, v, weighted_d = weighted_MDS_v1(distance, w)"
   ]
  },
  {
   "cell_type": "code",
   "execution_count": 40,
   "id": "2c4ee367",
   "metadata": {},
   "outputs": [
    {
     "data": {
      "text/plain": [
       "<AxesSubplot:>"
      ]
     },
     "execution_count": 40,
     "metadata": {},
     "output_type": "execute_result"
    },
    {
     "data": {
      "image/png": "[encoded data removed]",
      "text/plain": [
       "<Figure size 432x288 with 1 Axes>"
      ]
     },
     "metadata": {
      "needs_background": "light"
     },
     "output_type": "display_data"
    }
   ],
   "source": [
    "import seaborn as sns\n",
    "sns.scatterplot(x=-coords[-1:, 0], y=-coords[-1:, 1], label='repeated')\n",
    "# sns.scatterplot(x=coords_[-1:, 0], y=coords_[-1:, 1], label='weighted')"
   ]
  },
  {
   "cell_type": "code",
   "execution_count": 72,
   "id": "c870e38b",
   "metadata": {},
   "outputs": [],
   "source": [
    "def Euclidean_dist(x1,x2):\n",
    "    return np.sum((x1-x2)**2)"
   ]
  },
  {
   "cell_type": "code",
   "execution_count": 73,
   "id": "8da3de2d",
   "metadata": {},
   "outputs": [],
   "source": [
    "def repeat_pts(pts_x,pts_y,w):\n",
    "    pts_x_r = []\n",
    "    pts_y_r = []\n",
    "    for x,y,w_ in zip(pts_x,pts_y,w):\n",
    "        pts_x_r+=[x]*w_\n",
    "        pts_y_r+=[y]*w_\n",
    "    return pts_x_r,pts_y_r"
   ]
  },
  {
   "cell_type": "markdown",
   "id": "df4c0095",
   "metadata": {},
   "source": [
    "Example"
   ]
  },
  {
   "cell_type": "code",
   "execution_count": 74,
   "id": "a6b173a0",
   "metadata": {},
   "outputs": [],
   "source": [
    "pts_x = np.array([0,0,1])\n",
    "pts_y = np.array([0,1,0])\n",
    "w= [1,1,2 ]\n",
    "pts_xr,pts_yr=repeat_pts(pts_x,pts_y,w)"
   ]
  },
  {
   "cell_type": "code",
   "execution_count": 75,
   "id": "fc7e2189",
   "metadata": {},
   "outputs": [
    {
     "data": {
      "text/plain": [
       "(-0.05, 1.05, -0.05, 1.05)"
      ]
     },
     "execution_count": 75,
     "metadata": {},
     "output_type": "execute_result"
    },
    {
     "data": {
      "image/png": "[encoded data removed]",
      "text/plain": [
       "<Figure size 432x288 with 1 Axes>"
      ]
     },
     "metadata": {
      "needs_background": "light"
     },
     "output_type": "display_data"
    }
   ],
   "source": [
    "plt.plot(pts_x,pts_y)\n",
    "\n",
    "plt.axis('equal')"
   ]
  },
  {
   "cell_type": "markdown",
   "id": "c0822d69",
   "metadata": {},
   "source": [
    "usual MDS with repeated entries"
   ]
  },
  {
   "cell_type": "code",
   "execution_count": 76,
   "id": "995f274c",
   "metadata": {},
   "outputs": [],
   "source": [
    "N=len(pts_xr)\n",
    "euclidean_dist = np.zeros((N,N))\n",
    "for i in range(N):\n",
    "    for j in range(N):\n",
    "        euclidean_dist[i,j] = (pts_xr[i]-pts_xr[j])**2+(pts_yr[i]-pts_yr[j])**2\n",
    "        \n",
    "P = np.eye(N) - np.ones((N,N))/N\n",
    "D_full = -P@ euclidean_dist@P/2\n",
    "\n",
    "e_full,v_full = LA.eig(D_full)\n",
    "ii = np.argsort(np.abs(e_full))[::-1]\n",
    "e_full, v_full = e_full[ii], v_full[:, ii]\n",
    "\n",
    "coords_ =  np.sqrt(e_full)*v_full"
   ]
  },
  {
   "cell_type": "markdown",
   "id": "ac6662c0",
   "metadata": {},
   "source": [
    "Weighted MDS v2"
   ]
  },
  {
   "cell_type": "code",
   "execution_count": 77,
   "id": "70ad086d",
   "metadata": {},
   "outputs": [
    {
     "name": "stdout",
     "output_type": "stream",
     "text": [
      "[1.12934949 1.01747204 1.15470054]\n"
     ]
    }
   ],
   "source": [
    "N=len(pts_x)\n",
    "euclidean_dist = np.zeros((N,N))\n",
    "for i in range(N):\n",
    "    for j in range(N):\n",
    "        euclidean_dist[i,j] = (pts_x[i]-pts_x[j])**2+(pts_y[i]-pts_y[j])**2\n",
    "        \n",
    "coords_m, e_m,v_m, dw = weighted_MDS_v1(euclidean_dist,w);"
   ]
  },
  {
   "cell_type": "code",
   "execution_count": 78,
   "id": "d82d66f5",
   "metadata": {},
   "outputs": [
    {
     "data": {
      "text/plain": [
       "array([1.04409419, 1.04409419, 1.04409419])"
      ]
     },
     "execution_count": 78,
     "metadata": {},
     "output_type": "execute_result"
    }
   ],
   "source": [
    "coords_m[:,0]/v_m[:,0]"
   ]
  },
  {
   "cell_type": "code",
   "execution_count": 79,
   "id": "a32e63ca",
   "metadata": {},
   "outputs": [
    {
     "name": "stdout",
     "output_type": "stream",
     "text": [
      "Eigenvalues=[1.3903882 0.3596118]\n"
     ]
    }
   ],
   "source": [
    "print('Eigenvalues='+str(e_m[:2]))"
   ]
  },
  {
   "cell_type": "code",
   "execution_count": 80,
   "id": "465c2932",
   "metadata": {},
   "outputs": [
    {
     "data": {
      "text/plain": [
       "<matplotlib.legend.Legend at 0x7f98f6617100>"
      ]
     },
     "execution_count": 80,
     "metadata": {},
     "output_type": "execute_result"
    },
    {
     "data": {
      "image/png": "[encoded data removed]",
      "text/plain": [
       "<Figure size 432x288 with 1 Axes>"
      ]
     },
     "metadata": {
      "needs_background": "light"
     },
     "output_type": "display_data"
    }
   ],
   "source": [
    "plt.scatter(coords_[:,0],coords_[:,1],200,'k',alpha=0.1)\n",
    "plt.plot(coords_[:,0],coords_[:,1],'k',label='PCA')\n",
    "\n",
    "plt.scatter(-coords_m[:,0],-coords_m[:,1],200,'r',alpha=0.1)\n",
    "plt.plot(-coords_m[:,0],-coords_m[:,1],'r', label='Weighted Embedding')\n",
    "\n",
    "plt.legend()\n"
   ]
  },
  {
   "cell_type": "code",
   "execution_count": null,
   "id": "511b82fc",
   "metadata": {},
   "outputs": [],
   "source": []
  }
 ],
 "metadata": {
  "kernelspec": {
   "display_name": "Python 3 (ipykernel)",
   "language": "python",
   "name": "python3"
  },
  "language_info": {
   "codemirror_mode": {
    "name": "ipython",
    "version": 3
   },
   "file_extension": ".py",
   "mimetype": "text/x-python",
   "name": "python",
   "nbconvert_exporter": "python",
   "pygments_lexer": "ipython3",
   "version": "3.9.13"
  }
 },
 "nbformat": 4,
 "nbformat_minor": 5
}
